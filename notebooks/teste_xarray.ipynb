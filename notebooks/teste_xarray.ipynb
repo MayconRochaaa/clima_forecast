{
 "cells": [
  {
   "cell_type": "code",
   "execution_count": 1,
   "metadata": {},
   "outputs": [],
   "source": [
    "import os\n",
    "import sys\n",
    "import pyet\n",
    "import xarray as xr\n",
    "import lightgbm as lgb\n",
    "import matplotlib.pyplot as plt\n",
    "\n",
    "from sklearn.pipeline import Pipeline\n",
    "from sklearn.preprocessing import OneHotEncoder, MinMaxScaler, StandardScaler, RobustScaler\n",
    "from sklearn.metrics import mean_squared_error, mean_absolute_error, r2_score, mean_absolute_percentage_error\n",
    "from sklearn.compose import ColumnTransformer\n",
    "\n",
    "\n",
    "sys.path.append('../src')\n",
    "from evapo_bibli                  import *\n",
    "\n",
    "MAIN_PATH = os.path.dirname(os.path.abspath(''))\n",
    "DATA_PATH = os.path.join(MAIN_PATH, 'data')\n",
    "CLIMA_PATH = os.path.join(DATA_PATH, '01_raw')\n",
    "DB_PATH = os.path.join(DATA_PATH, '02_intermediate')\n",
    "\n",
    "NOTE_PATH = os.path.join(MAIN_PATH, 'notebooks')\n",
    "CODE_PATH = os.path.join(MAIN_PATH, 'src')"
   ]
  },
  {
   "cell_type": "code",
   "execution_count": 4,
   "metadata": {},
   "outputs": [],
   "source": [
    "df = pd.read_parquet(\"clima_sp_2011_2020.parquet\")"
   ]
  },
  {
   "cell_type": "code",
   "execution_count": 2,
   "metadata": {},
   "outputs": [],
   "source": [
    "# Função para converter hora para datetime\n",
    "def converter_hora(hora_str):\n",
    "    try:\n",
    "        # Tenta converter para o formato '0000 UTC'\n",
    "        return pd.to_datetime(hora_str, format='%H%M UTC')\n",
    "    except ValueError:\n",
    "        # Se não for possível converter para o formato '0000 UTC', tenta converter para o formato '00:00'\n",
    "        return pd.to_datetime(hora_str, format='%H:%M')\n",
    "    \n",
    "# Função para converter data para datetime\n",
    "def converter_data(data_str):\n",
    "    try:\n",
    "        return pd.to_datetime(data_str, format='%Y/%m/%d')\n",
    "    except ValueError:\n",
    "        return pd.to_datetime(data_str, format='%Y-%m-%d')\n",
    "\n",
    "def determinar_estacao(dia, mes):\n",
    "    if (mes == 12 and dia >= 22) or (mes == 1) or (mes == 2) or (mes == 3 and dia <= 20):\n",
    "        return 'Verão'\n",
    "    elif (mes == 3 and dia > 20) or (mes == 4) or (mes == 5) or (mes == 6 and dia < 21):\n",
    "        return 'Outono'\n",
    "    elif (mes == 6 and dia >= 21) or (mes == 7) or (mes == 8) or (mes == 9 and dia < 23):\n",
    "        return 'Inverno'\n",
    "    elif (mes == 9 and dia >= 23) or (mes == 10) or (mes == 11) or (mes == 12 and dia < 22):\n",
    "        return 'Primavera'\n",
    "    else:\n",
    "        return 'Data inválida'\n",
    "     \n",
    "def ml_error(model_name, y, yhat):\n",
    "    \"\"\"Cria um dataframe que traz as metricas MAE, MAPE, RMSE e R2 do modelo treinado\n",
    "\n",
    "    Args:\n",
    "        model_name (string): Nome do modelo\n",
    "        y (_type_): Variavel target \n",
    "        yhat (_type_): Variavel target predita\n",
    "\n",
    "    Returns:\n",
    "        DataFrame: Dataframe com as métricas de desempenho do modelo\n",
    "    \"\"\"\n",
    "    mae = mean_absolute_error(y,yhat)\n",
    "    mape = mean_absolute_percentage_error(y,yhat)\n",
    "    rmse = np.sqrt(mean_squared_error(y, yhat))\n",
    "    r2 = r2_score(y,yhat)\n",
    "    \n",
    "    return pd.DataFrame({'Model Name': model_name,\n",
    "                         'MAE': mae,\n",
    "                         'MAPE': mape,\n",
    "                         'RMSE':rmse,\n",
    "                         'R2': r2}, index=[0])"
   ]
  },
  {
   "cell_type": "code",
   "execution_count": 10,
   "metadata": {},
   "outputs": [],
   "source": [
    "aux = df.copy()\n",
    "\n",
    "aux['hora'] = aux['hora'].apply(converter_hora)\n",
    "aux['data'] = aux['data'].apply(converter_data)\n",
    "\n",
    "aux['data_hora'] = aux['data'] + pd.to_timedelta(aux['hora'].dt.hour, unit='h') + pd.to_timedelta(aux['hora'].dt.minute, unit='m')\n",
    "\n",
    "aux.drop(columns=['hora', 'data'], inplace=True)\n",
    "aux.rename(columns={'data_hora': 'data'}, inplace=True)\n",
    "\n",
    "aux['dia'] = aux['data'].dt.day\n",
    "aux['mes'] = aux['data'].dt.month\n",
    "aux['ano'] = aux['data'].dt.year\n",
    "\n",
    "aux['temperatura_max'] = aux['temperatura_max'].str.replace(',', '.').astype(float)\n",
    "aux['temperatura_min'] = aux['temperatura_min'].str.replace(',', '.').astype(float)\n",
    "aux['vento_velocidade'] = aux['vento_velocidade'].str.replace(',', '.').astype(float)\n",
    "aux['radiacao_global'] = aux['radiacao_global'].str.replace(',', '.').astype(float)\n",
    "aux['ALTITUDE'] = aux['ALTITUDE'].str.replace(',', '.').astype(float)\n",
    "aux['LATITUDE'] = aux['LATITUDE'].str.replace(',', '.').astype(float)\n",
    "aux['LONGITUDE'] = aux['LONGITUDE'].str.replace(',', '.').astype(float)\n",
    "aux['precipitacao_total'] = aux['precipitacao_total'].str.replace(',', '.').astype(float)"
   ]
  },
  {
   "cell_type": "code",
   "execution_count": 67,
   "metadata": {},
   "outputs": [],
   "source": [
    "aux.to_parquet(\"clima_sp_2011_2020_trans.parquet\")"
   ]
  },
  {
   "cell_type": "code",
   "execution_count": 3,
   "metadata": {},
   "outputs": [],
   "source": [
    "aux = pd.read_parquet(\"clima_sp_2011_2020_trans.parquet\")"
   ]
  },
  {
   "cell_type": "code",
   "execution_count": 68,
   "metadata": {},
   "outputs": [],
   "source": [
    "aux2 = aux.copy()\n",
    "\n",
    "aux2['temperatura_min'] = aux2['temperatura_min'].replace(0, np.nan)\n",
    "aux2['temperatura_min'] = aux2['temperatura_min'].mask(aux2['temperatura_min'] < 0)\n",
    "aux2['temperatura_max'] = aux2['temperatura_max'].replace(0, np.nan)\n",
    "aux2['temperatura_max'] = aux2['temperatura_max'].mask(aux2['temperatura_max'] < 0)\n",
    "aux2['umidade_rel'] = aux2['umidade_rel'].mask(aux2['umidade_rel'] < 0)\n",
    "aux2['radiacao_global'] = aux2['radiacao_global'].replace(0, np.nan)\n",
    "aux2['radiacao_global'] = aux2['radiacao_global'].mask(aux2['radiacao_global'] < 0)\n",
    "aux2['vento_velocidade'] = aux2['vento_velocidade'].mask(aux2['vento_velocidade'] < 0)\n",
    "aux2['precipitacao_total'] = aux2['precipitacao_total'].mask(aux2['precipitacao_total'] < 0)\n",
    "\n",
    "aux2['temperatura_max'] = aux2['temperatura_max'].fillna(aux2.groupby(['mes', 'dia'])['temperatura_max'].transform('median'))\n",
    "aux2['temperatura_min'] = aux2['temperatura_min'].fillna(aux2.groupby(['mes', 'dia'])['temperatura_min'].transform('median'))\n",
    "aux2['vento_velocidade'] = aux2['vento_velocidade'].fillna(aux2.groupby(['mes', 'dia'])['vento_velocidade'].transform('median'))\n",
    "aux2['umidade_rel'] = aux2['umidade_rel'].fillna(aux2.groupby(['mes', 'dia'])['umidade_rel'].transform('median'))\n",
    "aux2['radiacao_global'] = aux2['radiacao_global'].fillna(aux2.groupby(['mes', 'dia'])['radiacao_global'].transform('median'))\n",
    "aux2['precipitacao_total'] = aux2['precipitacao_total'].fillna(aux2.groupby(['mes', 'dia'])['precipitacao_total'].transform('median'))\n",
    "\n",
    "aux2 = aux2.groupby(['ESTAÇÃO', 'ano', 'mes', 'dia']).agg({'temperatura_max': 'mean',\n",
    "                                              'temperatura_min': 'mean',\n",
    "                                              'umidade_rel': 'median',\n",
    "                                              'radiacao_global': 'sum',\n",
    "                                              'vento_velocidade': 'median',\n",
    "                                              'precipitacao_total': 'sum',\n",
    "                                              'LATITUDE': 'median',\n",
    "                                              'LONGITUDE': 'median',\n",
    "                                              'ALTITUDE': 'median',}).reset_index()\n",
    "\n",
    "aux2['temperatura_media'] = (aux2['temperatura_min'] + aux2['temperatura_max']) / 2\n",
    "\n",
    "aux2['radiacao_global'] = aux2['radiacao_global']/1000/12\n",
    "\n",
    "aux2['data'] = pd.to_datetime(aux2['ano'].astype(str) + '-' + aux2['mes'].astype(str) + '-' + aux2['dia'].astype(str))\n",
    "\n",
    "aux2['lat_rad'] = np.deg2rad(aux2['LATITUDE'])\n",
    "\n",
    "aux2.set_index('data', inplace=True)"
   ]
  },
  {
   "cell_type": "code",
   "execution_count": 69,
   "metadata": {},
   "outputs": [
    {
     "name": "stderr",
     "output_type": "stream",
     "text": [
      "e:\\repos\\estudo_clima\\env_clima\\Lib\\site-packages\\pandas\\core\\arraylike.py:399: RuntimeWarning: invalid value encountered in arccos\n",
      "  result = getattr(ufunc, method)(*inputs, **kwargs)\n"
     ]
    }
   ],
   "source": [
    "clima = aux2[['temperatura_max', 'temperatura_min', 'temperatura_media', 'umidade_rel', 'radiacao_global', 'vento_velocidade', 'precipitacao_total', 'lat_rad', 'ALTITUDE']]\n",
    "\n",
    "tmax, tmin, tmean, rh, rs, wind, ppt, lat, elev = [clima[column] for column in clima.columns]\n",
    "\n",
    "aux2['ET0_fao'] = pyet.pm_fao56(tmean, wind, tmax=tmax, rs=rs, tmin=tmin, rh=rh, elevation=elev, lat=lat)\n",
    "aux2 = aux2[aux2['ESTAÇÃO'] != 'CRIOSFERA']\n"
   ]
  },
  {
   "cell_type": "code",
   "execution_count": 78,
   "metadata": {},
   "outputs": [],
   "source": [
    "#Mantem a data como index e adiciona as colunas LATITUDE, LONGITUDE e ALTITUDE como index\n",
    "aux3 = aux2.copy()\n",
    "\n",
    "aux3['data'] = aux2.index\n",
    "aux3 = aux3.set_index(['data', 'LATITUDE', 'LONGITUDE'])\n"
   ]
  },
  {
   "cell_type": "code",
   "execution_count": 79,
   "metadata": {},
   "outputs": [],
   "source": [
    "aux4 = aux3.to_xarray()"
   ]
  },
  {
   "cell_type": "code",
   "execution_count": 90,
   "metadata": {},
   "outputs": [],
   "source": [
    "temp_media_global = aux4['ET0_fao'].mean(dim=('LATITUDE', 'LONGITUDE'))"
   ]
  },
  {
   "cell_type": "code",
   "execution_count": 91,
   "metadata": {},
   "outputs": [
    {
     "data": {
      "text/plain": [
       "[<matplotlib.lines.Line2D at 0x1e54de23b10>]"
      ]
     },
     "execution_count": 91,
     "metadata": {},
     "output_type": "execute_result"
    },
    {
     "data": {
      "image/png": "[encoded data removed]",
      "text/plain": [
       "<Figure size 640x480 with 1 Axes>"
      ]
     },
     "metadata": {},
     "output_type": "display_data"
    }
   ],
   "source": [
    "temp_media_global.plot()"
   ]
  },
  {
   "cell_type": "code",
   "execution_count": 94,
   "metadata": {},
   "outputs": [],
   "source": [
    "def create_sequences(data, seq_length):\n",
    "    sequences = []\n",
    "    for i in range(len(data) - seq_length + 1):\n",
    "        sequence = data[i:i+seq_length]\n",
    "        sequences.append(sequence)\n",
    "    return np.array(sequences)\n",
    "\n",
    "def r_squared(y_true, y_pred):\n",
    "    SS_res =  tf.reduce_sum(tf.square(y_true - y_pred))\n",
    "    SS_tot = tf.reduce_sum(tf.square(y_true - tf.reduce_mean(y_true)))\n",
    "    return 1 - SS_res/(SS_tot + tf.keras.backend.epsilon())"
   ]
  },
  {
   "cell_type": "code",
   "execution_count": 105,
   "metadata": {},
   "outputs": [
    {
     "data": {
      "text/plain": [
       "ESTAÇÃO                object\n",
       "ano                     int32\n",
       "mes                     int32\n",
       "dia                     int32\n",
       "temperatura_max       float64\n",
       "temperatura_min       float64\n",
       "umidade_rel           float64\n",
       "radiacao_global       float64\n",
       "vento_velocidade      float64\n",
       "precipitacao_total    float64\n",
       "LATITUDE              float64\n",
       "LONGITUDE             float64\n",
       "ALTITUDE              float64\n",
       "temperatura_media     float64\n",
       "lat_rad               float64\n",
       "ET0_fao               float64\n",
       "dtype: object"
      ]
     },
     "execution_count": 105,
     "metadata": {},
     "output_type": "execute_result"
    }
   ],
   "source": [
    "aux2.dtypes"
   ]
  },
  {
   "cell_type": "code",
   "execution_count": 118,
   "metadata": {},
   "outputs": [],
   "source": [
    "X_treino = aux2[aux2.index.year < 2019].drop(columns=['ET0_fao', 'ESTAÇÃO'])\n",
    "y_treino = aux2[aux2.index.year < 2019]['ET0_fao']\n",
    "\n",
    "X_val = aux2[aux2.index.year == 2023].drop(columns=['ET0_fao', 'ESTAÇÃO'])\n",
    "y_val = aux2[aux2.index.year == 2023]['ET0_fao']\n",
    "\n",
    "timesteps = 365\n",
    "\n",
    "# Criando sequências para X_treino e y_treino\n",
    "X_treino_sequences = create_sequences(X_treino, timesteps)\n",
    "y_treino_sequences = y_treino[timesteps-1:]\n",
    "\n",
    "X_val_sequences = create_sequences(X_val, timesteps)\n",
    "y_val_sequences = y_val[timesteps-1:]\n"
   ]
  },
  {
   "cell_type": "code",
   "execution_count": 119,
   "metadata": {},
   "outputs": [
    {
     "name": "stdout",
     "output_type": "stream",
     "text": [
      "Model: \"sequential_6\"\n",
      "_________________________________________________________________\n",
      " Layer (type)                Output Shape              Param #   \n",
      "=================================================================\n",
      " lstm_5 (LSTM)               (None, 64)                20224     \n",
      "                                                                 \n",
      " dense_6 (Dense)             (None, 1)                 65        \n",
      "                                                                 \n",
      "=================================================================\n",
      "Total params: 20289 (79.25 KB)\n",
      "Trainable params: 20289 (79.25 KB)\n",
      "Non-trainable params: 0 (0.00 Byte)\n",
      "_________________________________________________________________\n"
     ]
    }
   ],
   "source": [
    "import tensorflow as tf\n",
    "from tensorflow.keras.layers import LSTM, Dense\n",
    "from tensorflow.keras.models import Sequential\n",
    "from tensorflow.keras import regularizers\n",
    "\n",
    "# Definindo os parâmetros do modelo\n",
    "input_dim = 14  # Dimensão da entrada (número de features)\n",
    "hidden_units = 64  # Número de unidades ocultas na camada RNN\n",
    "output_dim = 1  # Dimensão da saída (regressão univariada)\n",
    "\n",
    "# Criando o modelo RNN\n",
    "model = Sequential([\n",
    "    LSTM(hidden_units, \n",
    "         input_shape=(None, input_dim),\n",
    "         kernel_regularizer=regularizers.l2(0.01),  # Regularização L2 no kernel da camada LSTM\n",
    "         recurrent_regularizer=regularizers.l2(0.01),  # Regularização L2 na recorrência da camada LSTM\n",
    "         bias_regularizer=regularizers.l2(0.01)),  # Regularização L2 no viés da camada LSTM\n",
    "    Dense(output_dim, kernel_regularizer=regularizers.l2(0.01), bias_regularizer=regularizers.l2(0.01))  # Regularização L2 na camada Dense\n",
    "])\n",
    "# Compilando o modelo\n",
    "model.compile(optimizer='adam', loss='mse', metrics=[r_squared, tf.keras.metrics.RootMeanSquaredError(name='rmse')])\n",
    "\n",
    "# Exibindo um resumo do modelo\n",
    "model.summary()\n"
   ]
  },
  {
   "cell_type": "code",
   "execution_count": 120,
   "metadata": {},
   "outputs": [
    {
     "ename": "MemoryError",
     "evalue": "Unable to allocate 1.82 GiB for an array with shape (95842, 365, 14) and data type float32",
     "output_type": "error",
     "traceback": [
      "\u001b[1;31m---------------------------------------------------------------------------\u001b[0m",
      "\u001b[1;31mMemoryError\u001b[0m                               Traceback (most recent call last)",
      "Cell \u001b[1;32mIn[120], line 1\u001b[0m\n\u001b[1;32m----> 1\u001b[0m \u001b[43mmodel\u001b[49m\u001b[38;5;241;43m.\u001b[39;49m\u001b[43mfit\u001b[49m\u001b[43m(\u001b[49m\u001b[43mX_treino_sequences\u001b[49m\u001b[43m,\u001b[49m\u001b[43m \u001b[49m\u001b[43my_treino_sequences\u001b[49m\u001b[43m,\u001b[49m\u001b[43m \u001b[49m\u001b[43mepochs\u001b[49m\u001b[38;5;241;43m=\u001b[39;49m\u001b[38;5;241;43m100\u001b[39;49m\u001b[43m,\u001b[49m\u001b[43m \u001b[49m\u001b[43mvalidation_data\u001b[49m\u001b[38;5;241;43m=\u001b[39;49m\u001b[43m(\u001b[49m\u001b[43mX_val_sequences\u001b[49m\u001b[43m,\u001b[49m\u001b[43m \u001b[49m\u001b[43my_val_sequences\u001b[49m\u001b[43m)\u001b[49m\u001b[43m)\u001b[49m\n",
      "File \u001b[1;32me:\\repos\\estudo_clima\\env_clima\\Lib\\site-packages\\keras\\src\\utils\\traceback_utils.py:70\u001b[0m, in \u001b[0;36mfilter_traceback.<locals>.error_handler\u001b[1;34m(*args, **kwargs)\u001b[0m\n\u001b[0;32m     67\u001b[0m     filtered_tb \u001b[38;5;241m=\u001b[39m _process_traceback_frames(e\u001b[38;5;241m.\u001b[39m__traceback__)\n\u001b[0;32m     68\u001b[0m     \u001b[38;5;66;03m# To get the full stack trace, call:\u001b[39;00m\n\u001b[0;32m     69\u001b[0m     \u001b[38;5;66;03m# `tf.debugging.disable_traceback_filtering()`\u001b[39;00m\n\u001b[1;32m---> 70\u001b[0m     \u001b[38;5;28;01mraise\u001b[39;00m e\u001b[38;5;241m.\u001b[39mwith_traceback(filtered_tb) \u001b[38;5;28;01mfrom\u001b[39;00m \u001b[38;5;28;01mNone\u001b[39;00m\n\u001b[0;32m     71\u001b[0m \u001b[38;5;28;01mfinally\u001b[39;00m:\n\u001b[0;32m     72\u001b[0m     \u001b[38;5;28;01mdel\u001b[39;00m filtered_tb\n",
      "File \u001b[1;32me:\\repos\\estudo_clima\\env_clima\\Lib\\site-packages\\tensorflow\\python\\framework\\constant_op.py:103\u001b[0m, in \u001b[0;36mconvert_to_eager_tensor\u001b[1;34m(value, ctx, dtype)\u001b[0m\n\u001b[0;32m    101\u001b[0m     dtype \u001b[38;5;241m=\u001b[39m dtypes\u001b[38;5;241m.\u001b[39mas_dtype(dtype)\u001b[38;5;241m.\u001b[39mas_datatype_enum\n\u001b[0;32m    102\u001b[0m ctx\u001b[38;5;241m.\u001b[39mensure_initialized()\n\u001b[1;32m--> 103\u001b[0m \u001b[38;5;28;01mreturn\u001b[39;00m \u001b[43mops\u001b[49m\u001b[38;5;241;43m.\u001b[39;49m\u001b[43mEagerTensor\u001b[49m\u001b[43m(\u001b[49m\u001b[43mvalue\u001b[49m\u001b[43m,\u001b[49m\u001b[43m \u001b[49m\u001b[43mctx\u001b[49m\u001b[38;5;241;43m.\u001b[39;49m\u001b[43mdevice_name\u001b[49m\u001b[43m,\u001b[49m\u001b[43m \u001b[49m\u001b[43mdtype\u001b[49m\u001b[43m)\u001b[49m\n",
      "\u001b[1;31mMemoryError\u001b[0m: Unable to allocate 1.82 GiB for an array with shape (95842, 365, 14) and data type float32"
     ]
    }
   ],
   "source": [
    "model.fit(X_treino_sequences, y_treino_sequences, epochs=100, validation_data=(X_val_sequences, y_val_sequences))"
   ]
  }
 ],
 "metadata": {
  "kernelspec": {
   "display_name": "env_clima",
   "language": "python",
   "name": "python3"
  },
  "language_info": {
   "codemirror_mode": {
    "name": "ipython",
    "version": 3
   },
   "file_extension": ".py",
   "mimetype": "text/x-python",
   "name": "python",
   "nbconvert_exporter": "python",
   "pygments_lexer": "ipython3",
   "version": "3.11.5"
  }
 },
 "nbformat": 4,
 "nbformat_minor": 2
}
